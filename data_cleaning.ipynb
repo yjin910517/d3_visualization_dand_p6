{
 "cells": [
  {
   "cell_type": "code",
   "execution_count": 1,
   "metadata": {
    "collapsed": true
   },
   "outputs": [],
   "source": [
    "import xlrd\n",
    "import pandas as pd"
   ]
  },
  {
   "cell_type": "code",
   "execution_count": 2,
   "metadata": {
    "collapsed": true
   },
   "outputs": [],
   "source": [
    "def clean_data(sex='male'):\n",
    "    '''\n",
    "    Args：\n",
    "        sex:either male or female\n",
    "    Returns:\n",
    "        print summary of data in console and export cleaned data in csv format\n",
    "    '''\n",
    "    \n",
    "    if sex=='male':\n",
    "        in_path_bmi='raw_data/Indicator_BMI male ASM.xlsx'\n",
    "        in_path_bp='raw_data/Indicator_SBP male ASM.xlsx'\n",
    "        out_path='male_combined.csv'\n",
    "    elif sex=='female':\n",
    "        in_path_bmi='raw_data/Indicator_BMI female ASM.xlsx'\n",
    "        in_path_bp='raw_data/Indicator_SBP female ASM.xlsx'\n",
    "        out_path='female_combined.csv'        \n",
    "    else:\n",
    "        raise KeyError('sex arg is invalid: female/male')\n",
    "    \n",
    "    \n",
    "    def extract_reshape(sheet,val_title):\n",
    "        '''\n",
    "        Args:\n",
    "            sheet: defined xlrd sheet\n",
    "            val_title: column name of value\n",
    "        Returns:\n",
    "            reshaped pandas dataframe\n",
    "        '''\n",
    "        \n",
    "        ### Read data from excel \n",
    "        df={}\n",
    "        for col_idx in range(sheet.ncols):\n",
    "            name=sheet.col_values(col_idx)[0]\n",
    "            data=sheet.col_values(col_idx)[1:]\n",
    "            if col_idx==0:\n",
    "                df['Country']=pd.Series(data)\n",
    "            else:\n",
    "                df[int(name)]=pd.Series(data)\n",
    "        df=pd.DataFrame(df)\n",
    "        df=df.set_index('Country')\n",
    "\n",
    "        ### Reshape data\n",
    "        df=df.stack()\n",
    "        df=df.reset_index()\n",
    "        df.columns=['Country', 'Year', val_title]\n",
    "        df=df.set_index(['Country', 'Year'])\n",
    "\n",
    "        return df\n",
    "        \n",
    "    # Extract and clean bmi data\n",
    "    book=xlrd.open_workbook(in_path_bmi)\n",
    "    sheet=book.sheet_by_index(0)\n",
    "    df_bmi=extract_reshape(sheet,'BMI')\n",
    "    \n",
    "    # Extract and clean bp data\n",
    "    book=xlrd.open_workbook(in_path_bp)\n",
    "    sheet=book.sheet_by_index(0)\n",
    "    df_bp=extract_reshape(sheet,'BP')\n",
    "    \n",
    "    # Merge and map with continent\n",
    "    continent=pd.read_csv('raw_data/Countries-Continents-csv.csv')[['Continent','Country']]\n",
    "    continent=continent.set_index('Country')\n",
    "    df=df_bmi.merge(df_bp,how='inner',left_index=True,right_index=True).merge(continent,how='left',left_index=True,right_index=True).fillna(0)\n",
    "    df=df[df['Continent']!=0]\n",
    "    df=df.reset_index()\n",
    "    \n",
    "    df.to_csv(out_path,index=False)\n",
    "    \n",
    "    print(sex,'data cleaned and exported')\n",
    "    print()\n",
    "    print(df.head())\n",
    "    print('Min BMI: ',df['BMI'].min())\n",
    "    print('Max BMI: ',df['BMI'].max())\n",
    "    print('Min BP: ',df['BP'].min())\n",
    "    print('Max BP: ',df['BP'].max())\n",
    "    \n",
    "    return df"
   ]
  },
  {
   "cell_type": "code",
   "execution_count": 3,
   "metadata": {
    "collapsed": false
   },
   "outputs": [
    {
     "name": "stdout",
     "output_type": "stream",
     "text": [
      "male data cleaned and exported\n",
      "\n",
      "       Country  Year       BMI        BP Continent\n",
      "0  Afghanistan  1984  21.42734  125.3442      Asia\n",
      "1  Afghanistan  1986  21.40132  125.4051      Asia\n",
      "2  Afghanistan  1987  21.37679  125.4011      Asia\n",
      "3  Afghanistan  1988  21.34018  125.3434      Asia\n",
      "4  Afghanistan  1989  21.29845  125.2586      Asia\n",
      "Min BMI:  19.01394\n",
      "Max BMI:  33.89634\n",
      "Min BP:  118.5221\n",
      "Max BP:  143.1237\n"
     ]
    }
   ],
   "source": [
    "df=clean_data('male')"
   ]
  },
  {
   "cell_type": "code",
   "execution_count": 4,
   "metadata": {
    "collapsed": false
   },
   "outputs": [
    {
     "name": "stdout",
     "output_type": "stream",
     "text": [
      "female data cleaned and exported\n",
      "\n",
      "       Country  Year       BMI        BP Continent\n",
      "0  Afghanistan  1984  20.60867  122.9095      Asia\n",
      "1  Afghanistan  1986  20.68983  123.2892      Asia\n",
      "2  Afghanistan  1987  20.70902  123.4189      Asia\n",
      "3  Afghanistan  1988  20.71512  123.5137      Asia\n",
      "4  Afghanistan  1989  20.71421  123.5832      Asia\n",
      "Min BMI:  18.47166\n",
      "Max BMI:  35.02294\n",
      "Min BP:  110.3353\n",
      "Max BP:  139.4559\n"
     ]
    }
   ],
   "source": [
    "df=clean_data('female')"
   ]
  },
  {
   "cell_type": "code",
   "execution_count": null,
   "metadata": {
    "collapsed": true
   },
   "outputs": [],
   "source": []
  }
 ],
 "metadata": {
  "anaconda-cloud": {},
  "kernelspec": {
   "display_name": "Python [Root]",
   "language": "python",
   "name": "Python [Root]"
  },
  "language_info": {
   "codemirror_mode": {
    "name": "ipython",
    "version": 3
   },
   "file_extension": ".py",
   "mimetype": "text/x-python",
   "name": "python",
   "nbconvert_exporter": "python",
   "pygments_lexer": "ipython3",
   "version": "3.5.2"
  }
 },
 "nbformat": 4,
 "nbformat_minor": 0
}
